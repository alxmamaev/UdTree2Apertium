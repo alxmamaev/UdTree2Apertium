{
 "cells": [
  {
   "cell_type": "code",
   "execution_count": 3,
   "metadata": {},
   "outputs": [],
   "source": [
    "import codecs\n",
    "import re"
   ]
  },
  {
   "cell_type": "code",
   "execution_count": 21,
   "metadata": {},
   "outputs": [
    {
     "name": "stdout",
     "output_type": "stream",
     "text": [
      "['анкета', 'анкета<n><f><nn><sg><nom']\n",
      "['.', '.<sent']\n",
      "['начальник', 'начальник<n><m><aa><sg><nom']\n",
      "['областного', 'областной<adj><sint><nt><an><sg><gen>', 'областной<adj><sint><m><an><sg><gen>', 'областной<adj><sint><m><aa><sg><acc']\n",
      "['управления', 'управление<n><nt><nn><sg><gen>', 'управление<n><nt><nn><pl><nom>', 'управление<n><nt><nn><pl><acc']\n",
      "['связи', 'связи<n><f><nn><pl><nom>', 'связи<n><f><nn><pl><acc>', 'связь<n><f><nn><sg><gen>', 'связь<n><f><nn><sg><dat>', 'связь<n><f><nn><sg><prp>', 'связь<n><f><nn><pl><nom>', 'связь<n><f><nn><pl><acc']\n",
      "['семен', '*семе']\n",
      "['еремеевич', '*еремееви']\n",
      "['был', 'быть<vbser><past><m><sg>', 'былой<adj><sint><short><m><sg']\n",
      "['человек', 'человек<n><m><aa><pl><gen>', 'человек<n><m><aa><sg><nom']\n",
      "['простой', 'простой²<n><m><nn><sg><nom>', 'простой²<n><m><nn><sg><acc>', 'простой<adj><sint><f><an><sg><gen>', 'простой<adj><sint><f><an><sg><dat>', 'простой<adj><sint><f><an><sg><prp>', 'простой<adj><sint><f><an><sg><ins>', 'простой<adj><sint><m><an><sg><nom>', 'простой<adj><sint><m><nn><sg><acc>', 'простой<n><m><nn><sg><nom>', 'простой<n><m><nn><sg><dat>', 'простой<n><m><nn><sg><acc>', 'простоять<vblex><perf><tv><imp><p2><sg>', 'простоять<vblex><perf><iv><imp><p2><sg']\n",
      "[',', ',<cm']\n",
      "['приходил', 'приходить<vblex><impf><iv><past><m><sg']\n",
      "['на', 'на<pr']\n",
      "['работу', 'работа<n><f><nn><sg><acc']\n",
      "['всегда', 'всегда<adv']\n",
      "['вовремя', 'вовремя<adv']\n",
      "[',', ',<cm']\n",
      "['здоровался', 'здороваться<vblex><impf><iv><past><m><sg']\n",
      "['с', 'с<pr']\n",
      "['секретаршей', 'секретарша<n><f><aa><sg><ins']\n",
      "['за', 'за<pr']\n",
      "['руку', 'рука<n><f><nn><sg><dat>', 'рука<n><f><nn><sg><acc']\n",
      "['и', 'и<cnjcoo>', 'и<adv>', 'гибель<n><m><nn><pl><nom>', 'гибель<n><m><nn><pl><acc>', 'и²<n><nt><nn><sg><nom>', 'и²<n><nt><nn><sg><gen>', 'и²<n><nt><nn><sg><dat>', 'и²<n><nt><nn><sg><acc>', 'и²<n><nt><nn><sg><prp>', 'и²<n><nt><nn><sg><ins>', 'и²<n><nt><nn><pl><nom>', 'и²<n><nt><nn><pl><gen>', 'и²<n><nt><nn><pl><dat>', 'и²<n><nt><nn><pl><acc>', 'и²<n><nt><nn><pl><prp>', 'и²<n><nt><nn><pl><ins']\n",
      "['иногда', 'иногда<adv']\n",
      "['даже', 'даже<adv']\n",
      "['писал', 'писать¹<vblex><impf><tv><past><m><sg>', 'писать¹<vblex><impf><iv><past><m><sg>', 'писать²<vblex><impf><iv><past><m><sg']\n",
      "['в', 'в<pr']\n",
      "['стенгазету', 'стенгазета<n><f><nn><sg><acc']\n",
      "['заметки', 'заметка<n><f><nn><sg><gen>', 'заметка<n><f><nn><pl><acc>', 'заметка<n><f><nn><pl><nom']\n",
      "['под', 'под<pr>', 'под<n><m><nn><sg><nom>', 'под<n><m><nn><sg><acc']\n",
      "['псевдонимом', 'псевдоним<n><m><nn><sg><ins']\n",
      "['\"', '\"<sent']\n",
      "['муха', 'муха<n><f><aa><sg><nom']\n",
      "['\"', '\"<sent']\n",
      "['.', '.<sent']\n",
      "['в', 'в<pr']\n",
      "['приемной', 'приёмная<n><f><nn><sg><dat>', 'приёмная<n><f><nn><sg><ins>', 'приёмная<n><f><nn><sg><gen>', 'приёмная<n><f><nn><sg><prp>', 'приёмный<adj><sint><f><an><sg><gen>', 'приёмный<adj><sint><f><an><sg><dat>', 'приёмный<adj><sint><f><an><sg><prp>', 'приёмный<adj><sint><f><an><sg><ins']\n",
      "['его', 'его<det><pos>', 'он<prn><pers><p3><m><sg><gen>', 'оно<prn><pers><p3><nt><sg><gen>', 'оно<prn><pers><p3><nt><sg><acc']\n",
      "['с', 'с<pr']\n",
      "['утра', 'утро<n><nt><nn><sg><gen>', 'утро<n><nt><nn><pl><nom>', 'утро<n><nt><nn><pl><acc']\n",
      "['ожидали', 'ожидать<vblex><impf><tv><past><mfn><pl>', 'ожидать<vblex><impf><iv><past><mfn><pl']\n",
      "['посетители', 'посетитель<n><m><aa><pl><nom']\n",
      "[',', ',<cm']\n",
      "['-', '-<guio']\n",
      "['кое', '*кое$^-', '-<guio>$^кто', 'кто<prn><itg><m><aa><sg><nom']\n",
      "['с', 'с<pr']\n",
      "['важными', 'важный<adj><sint><mfn><an><pl><ins']\n",
      "['делами', 'дело<n><nt><nn><pl><ins']\n",
      "[',', ',<cm']\n",
      "['а', 'а<cnjcoo>', 'а²<n><nt><nn><sg><nom>', 'а²<n><nt><nn><sg><gen>', 'а²<n><nt><nn><sg><dat>', 'а²<n><nt><nn><sg><acc>', 'а²<n><nt><nn><sg><prp>', 'а²<n><nt><nn><sg><ins>', 'а²<n><nt><nn><pl><nom>', 'а²<n><nt><nn><pl><gen>', 'а²<n><nt><nn><pl><dat>', 'а²<n><nt><nn><pl><acc>', 'а²<n><nt><nn><pl><prp>', 'а²<n><nt><nn><pl><ins']\n",
      "['кое', '*кое$^-', '-<guio>$^кто', 'кто<prn><itg><m><aa><sg><nom']\n",
      "['и', 'и<cnjcoo>', 'и<adv>', 'гибель<n><m><nn><pl><nom>', 'гибель<n><m><nn><pl><acc>', 'и²<n><nt><nn><sg><nom>', 'и²<n><nt><nn><sg><gen>', 'и²<n><nt><nn><sg><dat>', 'и²<n><nt><nn><sg><acc>', 'и²<n><nt><nn><sg><prp>', 'и²<n><nt><nn><sg><ins>', 'и²<n><nt><nn><pl><nom>', 'и²<n><nt><nn><pl><gen>', 'и²<n><nt><nn><pl><dat>', 'и²<n><nt><nn><pl><acc>', 'и²<n><nt><nn><pl><prp>', 'и²<n><nt><nn><pl><ins']\n",
      "['с', 'с<pr']\n",
      "['такими', 'такой<prn><ind><mfn><an><pl><ins>', 'такой<det><dem><mfn><an><pl><ins']\n",
      "[',', ',<cm']\n",
      "['которые', 'который<prn><rel><mfn><an><pl><nom>', 'который<prn><rel><mfn><nn><pl><acc>', 'который<det><itg><mfn><an><pl><nom>', 'который<det><itg><mfn><nn><pl><acc']\n",
      "['легко', 'лёгкий<adj><sint><cmp>', 'легко<adv>', 'лёгкий<adj><sint><short><nt><sg']\n",
      "['можно', 'можно<part>', 'можно<pred']\n",
      "['было', 'быть<vbser><past><nt><sg>', 'былой<adj><sint><cmp>', 'былой<adj><sint><short><nt><sg']\n",
      "['решить', 'решить<vblex><perf><tv><inf>', 'решить<vblex><perf><iv><inf']\n",
      "['в', 'в<pr']\n",
      "['нижестоящих', 'нижестоящий<adj><sint><mfn><an><pl><gen>', 'нижестоящий<adj><sint><mfn><an><pl><prp>', 'нижестоящий<adj><sint><mfn><aa><pl><acc']\n",
      "['инстанциях', 'инстанция<n><f><nn><pl><prp']\n",
      "[',', ',<cm']\n",
      "['не', 'не<adv']\n",
      "['затрудняя', 'затруднять<vblex><impf><tv><pprs><adv>', 'затруднять<vblex><impf><iv><pprs><adv']\n",
      "['семена', 'семя<n><nt><nn><pl><acc>', 'семя<n><nt><nn><pl><nom']\n",
      "['еремеевича', '*еремеевич']\n",
      "['.', '.<sent']\n"
     ]
    }
   ],
   "source": [
    "file = codecs.open(\"test_apertium.tags\", \"r\",\"utf-8\")\n",
    "\n",
    "tags = {}\n",
    "\n",
    "while True:\n",
    "    line = file.readline()\n",
    "    if line.startswith(\"#\"): continue\n",
    "    if not line:break\n",
    "    \n",
    "    word = line.split(\"\\t\")[1:2]\n",
    "    if not word: continue\n",
    "    \n",
    "    word = word[0]\n",
    "    word = word[1:-2].lower()\n",
    "    tokens = word.split(\"/\")\n",
    "    \n",
    "    variants_of_words = []\n",
    "    for token in tokens[1:]:\n",
    "        normal_form = token.split(\"<\")[0]\n",
    "        tags = re.findall(\"\\<[a-z]*\\>\", token)\n",
    "        \n",
    "        variants_of_words.append({\"normal_form\":normal_form, \"tags\":tags})\n",
    "        "
   ]
  },
  {
   "cell_type": "code",
   "execution_count": null,
   "metadata": {},
   "outputs": [],
   "source": [
    "\"\""
   ]
  },
  {
   "cell_type": "code",
   "execution_count": null,
   "metadata": {},
   "outputs": [],
   "source": []
  }
 ],
 "metadata": {
  "kernelspec": {
   "display_name": "Python 3",
   "language": "python",
   "name": "python3"
  }
 },
 "nbformat": 4,
 "nbformat_minor": 2
}
