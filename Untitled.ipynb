{
 "cells": [
  {
   "cell_type": "code",
   "execution_count": 23,
   "metadata": {},
   "outputs": [],
   "source": [
    "import codecs\n",
    "import re"
   ]
  },
  {
   "cell_type": "code",
   "execution_count": 38,
   "metadata": {},
   "outputs": [],
   "source": [
    "file = codecs.open(\"test_apertium.tags\", \"r\",\"utf-8\")\n",
    "\n",
    "result_tags = {}\n",
    "\n",
    "while True:\n",
    "    line = file.readline()\n",
    "    if line.startswith(\"#\"): continue\n",
    "    if not line:break\n",
    "    \n",
    "    word = line.split(\"\\t\")[1:2]\n",
    "    if not word: continue\n",
    "    \n",
    "    word = word[0].split(\"-\")[0]\n",
    "    word = word[1:-2].lower()\n",
    "    tokens = word.split(\"/\")\n",
    "    \n",
    "    variants_of_words = []\n",
    "    for token in tokens[1:]:\n",
    "        normal_form = token.split(\"<\")[0]\n",
    "        tags = re.findall(\"\\<[a-z]*\\>\", token)\n",
    "        \n",
    "        variants_of_words.append({\"normal_form\":normal_form, \"tags\":tags})\n",
    "    \n",
    "    result_tags[tokens[0]] = variants_of_words"
   ]
  },
  {
   "cell_type": "code",
   "execution_count": 37,
   "metadata": {},
   "outputs": [
    {
     "ename": "KeyError",
     "evalue": "'кто'",
     "output_type": "error",
     "traceback": [
      "\u001b[1;31m---------------------------------------------------------------------------\u001b[0m",
      "\u001b[1;31mKeyError\u001b[0m                                  Traceback (most recent call last)",
      "\u001b[1;32m<ipython-input-37-c21d1915c722>\u001b[0m in \u001b[0;36m<module>\u001b[1;34m()\u001b[0m\n\u001b[1;32m----> 1\u001b[1;33m \u001b[0mresult_tags\u001b[0m\u001b[1;33m[\u001b[0m\u001b[1;34m'кто'\u001b[0m\u001b[1;33m]\u001b[0m\u001b[1;33m\u001b[0m\u001b[0m\n\u001b[0m",
      "\u001b[1;31mKeyError\u001b[0m: 'кто'"
     ]
    }
   ],
   "source": [
    "result_tags['кто']"
   ]
  },
  {
   "cell_type": "code",
   "execution_count": null,
   "metadata": {},
   "outputs": [],
   "source": []
  }
 ],
 "metadata": {
  "kernelspec": {
   "display_name": "Python 3",
   "language": "python",
   "name": "python3"
  }
 },
 "nbformat": 4,
 "nbformat_minor": 2
}
